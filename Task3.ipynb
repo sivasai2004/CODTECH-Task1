{
  "nbformat": 4,
  "nbformat_minor": 0,
  "metadata": {
    "colab": {
      "provenance": [],
      "authorship_tag": "ABX9TyNawAanVcLHtj5ipbBUcfID",
      "include_colab_link": true
    },
    "kernelspec": {
      "name": "python3",
      "display_name": "Python 3"
    },
    "language_info": {
      "name": "python"
    }
  },
  "cells": [
    {
      "cell_type": "markdown",
      "metadata": {
        "id": "view-in-github",
        "colab_type": "text"
      },
      "source": [
        "<a href=\"https://colab.research.google.com/github/sivasai2004/CODTECH-Task1/blob/main/Task3.ipynb\" target=\"_parent\"><img src=\"https://colab.research.google.com/assets/colab-badge.svg\" alt=\"Open In Colab\"/></a>"
      ]
    },
    {
      "cell_type": "code",
      "source": [
        "def celsius_to_fahrenheit(c):\n",
        "    return (c * 9/5) + 32\n",
        "\n",
        "def celsius_to_kelvin(c):\n",
        "    return c + 273.15\n",
        "\n",
        "def fahrenheit_to_celsius(f):\n",
        "    return (f - 32) * 5/9\n",
        "\n",
        "def fahrenheit_to_kelvin(f):\n",
        "    return (f - 32) * 5/9 + 273.15\n",
        "\n",
        "def kelvin_to_celsius(k):\n",
        "    return k - 273.15\n",
        "\n",
        "def kelvin_to_fahrenheit(k):\n",
        "    return (k - 273.15) * 9/5 + 32\n",
        "\n",
        "def convert_temperature():\n",
        "    print(\"Temperature Converter\")\n",
        "    print(\"Units: Celsius (C), Fahrenheit (F), Kelvin (K)\")\n",
        "\n",
        "    from_unit = input(\"Convert from (C/F/K): \").strip().upper()\n",
        "    to_unit = input(\"Convert to (C/F/K): \").strip().upper()\n",
        "\n",
        "    if from_unit not in ['C', 'F', 'K'] or to_unit not in ['C', 'F', 'K']:\n",
        "        print(\"Invalid unit selection.\")\n",
        "        return\n",
        "\n",
        "    try:\n",
        "        temp = float(input(f\"Enter temperature in {from_unit}: \"))\n",
        "    except ValueError:\n",
        "        print(\"Invalid temperature value.\")\n",
        "        return\n",
        "\n",
        "    if from_unit == to_unit:\n",
        "        print(f\"No conversion needed. Temperature: {temp:.2f}°{to_unit}\")\n",
        "        return\n",
        "\n",
        "    # Conversion logic\n",
        "    if from_unit == 'C':\n",
        "        if to_unit == 'F':\n",
        "            result = celsius_to_fahrenheit(temp)\n",
        "        else:\n",
        "            result = celsius_to_kelvin(temp)\n",
        "    elif from_unit == 'F':\n",
        "        if to_unit == 'C':\n",
        "            result = fahrenheit_to_celsius(temp)\n",
        "        else:\n",
        "            result = fahrenheit_to_kelvin(temp)\n",
        "    elif from_unit == 'K':\n",
        "        if to_unit == 'C':\n",
        "            result = kelvin_to_celsius(temp)\n",
        "        else:\n",
        "            result = kelvin_to_fahrenheit(temp)\n",
        "\n",
        "    print(f\"{temp:.2f}°{from_unit} is {result:.2f}°{to_unit}\")\n",
        "\n",
        "# Run the converter\n",
        "if __name__ == \"__main__\":\n",
        "    convert_temperature()\n"
      ],
      "metadata": {
        "colab": {
          "base_uri": "https://localhost:8080/"
        },
        "id": "2YbnoaxCKy52",
        "outputId": "bdae859b-ca2e-4e5d-97cb-ee24a04ba559"
      },
      "execution_count": null,
      "outputs": [
        {
          "output_type": "stream",
          "name": "stdout",
          "text": [
            "Temperature Converter\n",
            "Units: Celsius (C), Fahrenheit (F), Kelvin (K)\n"
          ]
        }
      ]
    }
  ]
}